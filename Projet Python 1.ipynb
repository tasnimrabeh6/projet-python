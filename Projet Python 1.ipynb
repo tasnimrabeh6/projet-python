{
 "cells": [
  {
   "cell_type": "code",
   "execution_count": 1,
   "id": "d288e048-8cc7-4d0e-a29c-bbfacff7db14",
   "metadata": {},
   "outputs": [
    {
     "name": "stdout",
     "output_type": "stream",
     "text": [
      "  countryname countrycode countrycode2  countrycode_IMF  year  quarter  \\\n",
      "0     Albania         ALB           AL              914  1996        1   \n",
      "1     Albania         ALB           AL              914  1996        2   \n",
      "2     Albania         ALB           AL              914  1996        3   \n",
      "3     Albania         ALB           AL              914  1996        4   \n",
      "4     Albania         ALB           AL              914  1997        1   \n",
      "\n",
      "   Public_PD_inflows  Gov_PD_inflows  CB_PD_inflows  Bank_PD_inflows  ...  \\\n",
      "0                  0               0              0                0  ...   \n",
      "1                  0               0              0                0  ...   \n",
      "2                  0               0              0                0  ...   \n",
      "3                  0               0              0                0  ...   \n",
      "4                  0               0              0                0  ...   \n",
      "\n",
      "   CB_OID_inflows  Bank_OID_inflows  Corp_OID_inflows  Public_PD_outflows  \\\n",
      "0               0                 0                 0                 NaN   \n",
      "1               0                 0                 0                 NaN   \n",
      "2               0                 0                 0                 NaN   \n",
      "3               0                 0                 0                 NaN   \n",
      "4               0                 0                 0                 NaN   \n",
      "\n",
      "   Bank_PD_outflows  Corp_PD_outflows  Public_OID_outflows  Bank_OID_outflows  \\\n",
      "0               NaN               NaN                  0.0                0.0   \n",
      "1               NaN               NaN                  0.0                0.0   \n",
      "2               NaN               NaN                  0.0                0.0   \n",
      "3               NaN               NaN                  0.0                0.0   \n",
      "4               NaN               NaN                  0.0                0.0   \n",
      "\n",
      "   Corp_OID_outflows  Reserves_outflows  \n",
      "0                0.0                0.0  \n",
      "1                0.0                0.0  \n",
      "2                0.0                0.0  \n",
      "3                0.0                0.0  \n",
      "4                0.0                0.0  \n",
      "\n",
      "[5 rows x 23 columns]\n"
     ]
    }
   ],
   "source": [
    "import pandas as pd\n",
    "import numpy as np\n",
    "data = pd.read_csv(\"C:/Users/Tasnim/Downloads/work760_dataset_2.csv\", nrows=200)\n",
    "data.head()\n",
    "print(data.head())"
   ]
  },
  {
   "attachments": {},
   "cell_type": "markdown",
   "id": "c1d81a52-a4f8-4075-82a1-6b247b82496c",
   "metadata": {},
   "source": [
    "Interprétation : \n",
    "* Les données structurées incluent :\n",
    "Colonnes : Informations sur les pays (nom, codes ISO, codes FMI), périodes (année, trimestre), et flux de capitaux (inflows/outflows) par secteur (public, gouvernemental, banque, etc.).\n",
    "Lignes : Données par pays (ex. Albanie) et période donnée.\n",
    "* Les colonnes principales :\n",
    "countryname, countrycode (ISO 3 lettres), countrycode2 (ISO 2 lettres), countrycode_IMF (FMI), year, quarter.\n",
    "Flux : Public_PD_inflows, Gov_PD_inflows, CB_PD_inflows, Bank_PD_inflows, Corp_PD_inflows, etc.\n",
    "* Analyse :\n",
    "La majorité des valeurs des flux sont nulles ou manquantes (NaN), indiquant un manque d'activité ou des données incomplètes.\n",
    "Nécessité de nettoyage des données."
   ]
  },
  {
   "cell_type": "code",
   "execution_count": 2,
   "id": "ed608fc8-df73-48f0-9811-44c3b583d157",
   "metadata": {},
   "outputs": [
    {
     "name": "stdout",
     "output_type": "stream",
     "text": [
      "Valeurs manquantes par colonne :\n",
      " countryname              0\n",
      "countrycode              0\n",
      "countrycode2             0\n",
      "countrycode_IMF          0\n",
      "year                     0\n",
      "quarter                  0\n",
      "Public_PD_inflows        0\n",
      "Gov_PD_inflows           0\n",
      "CB_PD_inflows            0\n",
      "Bank_PD_inflows          0\n",
      "Corp_PD_inflows          0\n",
      "Public_OID_inflows       0\n",
      "Gov_OID_inflows          0\n",
      "CB_OID_inflows           0\n",
      "Bank_OID_inflows         0\n",
      "Corp_OID_inflows         0\n",
      "Public_PD_outflows     143\n",
      "Bank_PD_outflows        95\n",
      "Corp_PD_outflows       143\n",
      "Public_OID_outflows     76\n",
      "Bank_OID_outflows       76\n",
      "Corp_OID_outflows       76\n",
      "Reserves_outflows       76\n",
      "dtype: int64\n"
     ]
    }
   ],
   "source": [
    "missing_values = data.isnull().sum()\n",
    "print(\"Valeurs manquantes par colonne :\\n\", missing_values)"
   ]
  },
  {
   "cell_type": "markdown",
   "id": "61104d04-5258-42ef-9922-0ba8002b07bc",
   "metadata": {},
   "source": [
    "* Ce code calcule le nombre de valeurs manquantes (NaN) dans chaque colonne d'un DataFrame data. Voici une explication concise :\n",
    "- data.isnull() : Identifie les valeurs manquantes (NaN) dans le DataFrame.\n",
    "- .sum() : Additionne le nombre de NaN par colonne.\n",
    "- print : Affiche les colonnes et leurs valeurs manquantes.\n",
    "Cela permet de repérer rapidement les colonnes avec des données manquantes pour effectuer un nettoyage."
   ]
  },
  {
   "cell_type": "code",
   "execution_count": 3,
   "id": "8bf61bfe-e7e1-4a6e-a987-d978b5e1f3af",
   "metadata": {},
   "outputs": [
    {
     "name": "stdout",
     "output_type": "stream",
     "text": [
      "       countrycode_IMF         year    quarter  Public_PD_inflows  \\\n",
      "count       200.000000   200.000000  200.00000         200.000000   \n",
      "mean        764.000000  2008.000000    2.50000           0.045000   \n",
      "std         150.376412     7.229198    1.12084           0.321702   \n",
      "min         614.000000  1996.000000    1.00000           0.000000   \n",
      "25%         614.000000  2002.000000    1.75000           0.000000   \n",
      "50%         764.000000  2008.000000    2.50000           0.000000   \n",
      "75%         914.000000  2014.000000    3.25000           0.000000   \n",
      "max         914.000000  2020.000000    4.00000           3.000000   \n",
      "\n",
      "       Gov_PD_inflows  CB_PD_inflows  Bank_PD_inflows  Corp_PD_inflows  \\\n",
      "count      200.000000          200.0            200.0            200.0   \n",
      "mean         0.045000            0.0              0.0              0.0   \n",
      "std          0.321702            0.0              0.0              0.0   \n",
      "min          0.000000            0.0              0.0              0.0   \n",
      "25%          0.000000            0.0              0.0              0.0   \n",
      "50%          0.000000            0.0              0.0              0.0   \n",
      "75%          0.000000            0.0              0.0              0.0   \n",
      "max          3.000000            0.0              0.0              0.0   \n",
      "\n",
      "       Public_OID_inflows  Gov_OID_inflows  CB_OID_inflows  Bank_OID_inflows  \\\n",
      "count          200.000000       200.000000      200.000000        200.000000   \n",
      "mean             0.105000         0.095000        0.015000          0.000000   \n",
      "std              0.887646         0.860043        0.186949          0.530478   \n",
      "min             -1.000000        -1.000000       -1.000000         -6.000000   \n",
      "25%              0.000000         0.000000        0.000000          0.000000   \n",
      "50%              0.000000         0.000000        0.000000          0.000000   \n",
      "75%              0.000000         0.000000        0.000000          0.000000   \n",
      "max             11.000000        11.000000        2.000000          3.000000   \n",
      "\n",
      "       Corp_OID_inflows  Public_PD_outflows  Bank_PD_outflows  \\\n",
      "count         200.00000                57.0             105.0   \n",
      "mean           -0.03000                 0.0               0.0   \n",
      "std             0.52005                 0.0               0.0   \n",
      "min            -2.00000                 0.0               0.0   \n",
      "25%             0.00000                 0.0               0.0   \n",
      "50%             0.00000                 0.0               0.0   \n",
      "75%             0.00000                 0.0               0.0   \n",
      "max             2.00000                 0.0               0.0   \n",
      "\n",
      "       Corp_PD_outflows  Public_OID_outflows  Bank_OID_outflows  \\\n",
      "count              57.0                124.0         124.000000   \n",
      "mean                0.0                  0.0          -0.040323   \n",
      "std                 0.0                  0.0           0.235099   \n",
      "min                 0.0                  0.0          -1.000000   \n",
      "25%                 0.0                  0.0           0.000000   \n",
      "50%                 0.0                  0.0           0.000000   \n",
      "75%                 0.0                  0.0           0.000000   \n",
      "max                 0.0                  0.0           1.000000   \n",
      "\n",
      "       Corp_OID_outflows  Reserves_outflows  \n",
      "count         124.000000         124.000000  \n",
      "mean            0.064516          -0.080645  \n",
      "std             0.718421           0.578711  \n",
      "min            -2.000000          -3.000000  \n",
      "25%             0.000000           0.000000  \n",
      "50%             0.000000           0.000000  \n",
      "75%             0.000000           0.000000  \n",
      "max             5.000000           2.000000  \n"
     ]
    }
   ],
   "source": [
    "# Résumé statistique\n",
    "print(data.describe())"
   ]
  },
  {
   "cell_type": "markdown",
   "id": "c3a729ad-1f8f-4a05-a99d-03923ad01146",
   "metadata": {},
   "source": [
    "Utilité de data.describe() :\n",
    "Fournit un résumé statistique des colonnes numériques du DataFrame, utile pour analyser les tendances et la variabilité.\n",
    "Interprétation des statistiques :\n",
    "* Inflows (entrées) : \n",
    "- Public_PD_inflows : Moyenne élevée (7.22), forte variabilité (écart-type 8.08), valeurs allant de 0 à 30.\n",
    "- Autres inflows (Gov_PD_inflows, CB_PD_inflows, etc.) : Moyenne, minimum et maximum à 0, indiquant l'absence de données.\n",
    "- OID inflows : Idem, aucune activité détectée (moyenne = 0).\n",
    "* Outflows (sorties) :\n",
    "- Public_PD_outflows : Moyenne légèrement négative (-0.036), variabilité modérée, valeurs entre -1 et 1.\n",
    "- Autres outflows (Bank_PD_outflows, Corp_PD_outflows) : Moyenne et valeurs nulles (0).\n",
    "- OID outflows : Moyenne négative pour Public (-0.08) et Bank (-0.23), avec une variabilité notable (écart-type ~0.5).\n",
    "Les inflows montrent des lacunes importantes, tandis que les outflows présentent des variations limitées avec des moyennes parfois négatives."
   ]
  },
  {
   "cell_type": "code",
   "execution_count": 4,
   "id": "06a5ca65-7408-4225-bd99-158304a80924",
   "metadata": {},
   "outputs": [
    {
     "name": "stdout",
     "output_type": "stream",
     "text": [
      "Colonnes avec des valeurs négatives :\n",
      " countrycode_IMF         0\n",
      "year                    0\n",
      "quarter                 0\n",
      "Public_PD_inflows       0\n",
      "Gov_PD_inflows          0\n",
      "CB_PD_inflows           0\n",
      "Bank_PD_inflows         0\n",
      "Corp_PD_inflows         0\n",
      "Public_OID_inflows      5\n",
      "Gov_OID_inflows         3\n",
      "CB_OID_inflows          1\n",
      "Bank_OID_inflows        5\n",
      "Corp_OID_inflows       18\n",
      "Public_PD_outflows      0\n",
      "Bank_PD_outflows        0\n",
      "Corp_PD_outflows        0\n",
      "Public_OID_outflows     0\n",
      "Bank_OID_outflows       6\n",
      "Corp_OID_outflows       7\n",
      "Reserves_outflows      11\n",
      "dtype: int64\n"
     ]
    }
   ],
   "source": [
    "# Vérifier les colonnes contenant des valeurs négatives\n",
    "negative_values = data.select_dtypes(include='number').lt(0).sum()\n",
    "print(\"Colonnes avec des valeurs négatives :\\n\", negative_values)"
   ]
  },
  {
   "cell_type": "markdown",
   "id": "a5a8e0b7-7c76-49ba-8134-82ace8e32036",
   "metadata": {},
   "source": [
    "* Colonnes avec valeurs négatives :\n",
    "countrycode_IMF, year, quarter, Inflows (Public, Gov, CB, Bank, Corp), Outflows (Public, Bank, Corp, OID, Reserves).\n",
    "* Analyse :\n",
    "Inflows : Valeurs négatives pouvant refléter des corrections, ajustements ou périodes d'inactivité.\n",
    "Outflows : Indiquent des retraits, pertes ou fluctuations, notamment dans les réserves, ce qui peut signaler une gestion instable des fonds."
   ]
  },
  {
   "cell_type": "code",
   "execution_count": 5,
   "id": "302b7f90-6b95-494f-8dcb-44e4f6e4d212",
   "metadata": {},
   "outputs": [],
   "source": [
    "# Supprimer les lignes contenant des valeurs manquantes\n",
    "data_cleaned = data.dropna()\n",
    "\n",
    "# Ou remplir les valeurs manquantes avec une valeur par défaut (ex. : 0)\n",
    "data_filled = data.fillna(0)"
   ]
  },
  {
   "cell_type": "code",
   "execution_count": 6,
   "id": "b0a24835-ab4d-4ee3-bf3f-b88fbfd05847",
   "metadata": {},
   "outputs": [],
   "source": [
    "# Convertir toutes les colonnes pertinentes en numériques, les erreurs seront ignorées pour les colonnes non numériques\n",
    "data = data.apply(pd.to_numeric, errors='coerce')\n",
    "# Remplacer les valeurs négatives par 0\n",
    "data_corrected = data.where(data >= 0, 0)"
   ]
  },
  {
   "cell_type": "code",
   "execution_count": 7,
   "id": "1d3318f4-addf-4a27-829c-59d18ed0ad64",
   "metadata": {},
   "outputs": [],
   "source": [
    "data_cleaned = data_corrected.dropna()\n",
    "data_cleaned = data_corrected.fillna(0)\n"
   ]
  },
  {
   "cell_type": "code",
   "execution_count": 8,
   "id": "2c4fe9c8-43a4-4f16-9dc3-7fc2a98fdeb9",
   "metadata": {},
   "outputs": [
    {
     "name": "stdout",
     "output_type": "stream",
     "text": [
      "       countryname  countrycode  countrycode2  countrycode_IMF         year  \\\n",
      "count        200.0        200.0         200.0       200.000000   200.000000   \n",
      "mean           0.0          0.0           0.0       764.000000  2008.000000   \n",
      "std            0.0          0.0           0.0       150.376412     7.229198   \n",
      "min            0.0          0.0           0.0       614.000000  1996.000000   \n",
      "25%            0.0          0.0           0.0       614.000000  2002.000000   \n",
      "50%            0.0          0.0           0.0       764.000000  2008.000000   \n",
      "75%            0.0          0.0           0.0       914.000000  2014.000000   \n",
      "max            0.0          0.0           0.0       914.000000  2020.000000   \n",
      "\n",
      "         quarter  Public_PD_inflows  Gov_PD_inflows  CB_PD_inflows  \\\n",
      "count  200.00000         200.000000      200.000000          200.0   \n",
      "mean     2.50000           0.045000        0.045000            0.0   \n",
      "std      1.12084           0.321702        0.321702            0.0   \n",
      "min      1.00000           0.000000        0.000000            0.0   \n",
      "25%      1.75000           0.000000        0.000000            0.0   \n",
      "50%      2.50000           0.000000        0.000000            0.0   \n",
      "75%      3.25000           0.000000        0.000000            0.0   \n",
      "max      4.00000           3.000000        3.000000            0.0   \n",
      "\n",
      "       Bank_PD_inflows  ...  CB_OID_inflows  Bank_OID_inflows  \\\n",
      "count            200.0  ...      200.000000        200.000000   \n",
      "mean               0.0  ...        0.020000          0.050000   \n",
      "std                0.0  ...        0.172478          0.279087   \n",
      "min                0.0  ...        0.000000          0.000000   \n",
      "25%                0.0  ...        0.000000          0.000000   \n",
      "50%                0.0  ...        0.000000          0.000000   \n",
      "75%                0.0  ...        0.000000          0.000000   \n",
      "max                0.0  ...        2.000000          3.000000   \n",
      "\n",
      "       Corp_OID_inflows  Public_PD_outflows  Bank_PD_outflows  \\\n",
      "count        200.000000               200.0             200.0   \n",
      "mean           0.085000                 0.0               0.0   \n",
      "std            0.313475                 0.0               0.0   \n",
      "min            0.000000                 0.0               0.0   \n",
      "25%            0.000000                 0.0               0.0   \n",
      "50%            0.000000                 0.0               0.0   \n",
      "75%            0.000000                 0.0               0.0   \n",
      "max            2.000000                 0.0               0.0   \n",
      "\n",
      "       Corp_PD_outflows  Public_OID_outflows  Bank_OID_outflows  \\\n",
      "count             200.0                200.0         200.000000   \n",
      "mean                0.0                  0.0           0.005000   \n",
      "std                 0.0                  0.0           0.070711   \n",
      "min                 0.0                  0.0           0.000000   \n",
      "25%                 0.0                  0.0           0.000000   \n",
      "50%                 0.0                  0.0           0.000000   \n",
      "75%                 0.0                  0.0           0.000000   \n",
      "max                 0.0                  0.0           1.000000   \n",
      "\n",
      "       Corp_OID_outflows  Reserves_outflows  \n",
      "count         200.000000         200.000000  \n",
      "mean            0.085000           0.035000  \n",
      "std             0.499019           0.232476  \n",
      "min             0.000000           0.000000  \n",
      "25%             0.000000           0.000000  \n",
      "50%             0.000000           0.000000  \n",
      "75%             0.000000           0.000000  \n",
      "max             5.000000           2.000000  \n",
      "\n",
      "[8 rows x 23 columns]\n",
      "   countryname  countrycode  countrycode2  countrycode_IMF  year  quarter  \\\n",
      "0          0.0          0.0           0.0              914  1996        1   \n",
      "1          0.0          0.0           0.0              914  1996        2   \n",
      "2          0.0          0.0           0.0              914  1996        3   \n",
      "3          0.0          0.0           0.0              914  1996        4   \n",
      "4          0.0          0.0           0.0              914  1997        1   \n",
      "\n",
      "   Public_PD_inflows  Gov_PD_inflows  CB_PD_inflows  Bank_PD_inflows  ...  \\\n",
      "0                  0               0              0                0  ...   \n",
      "1                  0               0              0                0  ...   \n",
      "2                  0               0              0                0  ...   \n",
      "3                  0               0              0                0  ...   \n",
      "4                  0               0              0                0  ...   \n",
      "\n",
      "   CB_OID_inflows  Bank_OID_inflows  Corp_OID_inflows  Public_PD_outflows  \\\n",
      "0               0                 0                 0                 0.0   \n",
      "1               0                 0                 0                 0.0   \n",
      "2               0                 0                 0                 0.0   \n",
      "3               0                 0                 0                 0.0   \n",
      "4               0                 0                 0                 0.0   \n",
      "\n",
      "   Bank_PD_outflows  Corp_PD_outflows  Public_OID_outflows  Bank_OID_outflows  \\\n",
      "0               0.0               0.0                  0.0                0.0   \n",
      "1               0.0               0.0                  0.0                0.0   \n",
      "2               0.0               0.0                  0.0                0.0   \n",
      "3               0.0               0.0                  0.0                0.0   \n",
      "4               0.0               0.0                  0.0                0.0   \n",
      "\n",
      "   Corp_OID_outflows  Reserves_outflows  \n",
      "0                0.0                0.0  \n",
      "1                0.0                0.0  \n",
      "2                0.0                0.0  \n",
      "3                0.0                0.0  \n",
      "4                0.0                0.0  \n",
      "\n",
      "[5 rows x 23 columns]\n"
     ]
    }
   ],
   "source": [
    "# Résumé statistique des données nettoyées\n",
    "print(data_cleaned.describe())\n",
    "\n",
    "# Affichage des premières lignes\n",
    "print(data_cleaned.head())\n"
   ]
  },
  {
   "cell_type": "markdown",
   "id": "b9106595-3da9-4204-bf26-509ebd5323c1",
   "metadata": {},
   "source": [
    "* Nettoyage de données :\n",
    "- Suppression des lignes : Les lignes avec des valeurs manquantes sont supprimées pour créer data_cleaned.\n",
    "- Remplissage : Les valeurs manquantes sont remplacées par 0 dans data_filled.\n",
    "- Conversion : Les colonnes pertinentes sont converties en numériques, avec remplacement des erreurs par NaN.\n",
    "- Colonnes non numériques : Supprimées pour conserver uniquement les colonnes numériques valides.\n",
    "- Résumé statistique : Généré pour data_cleaned (moyenne, écart-type, quartiles).\n",
    "- Aperçu : Affichage des 5 premières lignes des données nettoyées."
   ]
  },
  {
   "cell_type": "code",
   "execution_count": 9,
   "id": "9e96e988-846c-4309-942e-aef526d8e637",
   "metadata": {},
   "outputs": [
    {
     "name": "stdout",
     "output_type": "stream",
     "text": [
      "     countryname  countrycode  countrycode2  countrycode_IMF  year  quarter  \\\n",
      "0            NaN          NaN           NaN              914  1996        1   \n",
      "125          NaN          NaN           NaN              614  2002        2   \n",
      "126          NaN          NaN           NaN              614  2002        3   \n",
      "127          NaN          NaN           NaN              614  2002        4   \n",
      "128          NaN          NaN           NaN              614  2003        1   \n",
      "..           ...          ...           ...              ...   ...      ...   \n",
      "179          NaN          NaN           NaN              614  2015        4   \n",
      "97           NaN          NaN           NaN              914  2020        2   \n",
      "59           NaN          NaN           NaN              914  2010        4   \n",
      "189          NaN          NaN           NaN              614  2018        2   \n",
      "195          NaN          NaN           NaN              614  2019        4   \n",
      "\n",
      "     Public_PD_inflows  Gov_PD_inflows  CB_PD_inflows  Bank_PD_inflows  ...  \\\n",
      "0                    0               0              0                0  ...   \n",
      "125                  0               0              0                0  ...   \n",
      "126                  0               0              0                0  ...   \n",
      "127                  0               0              0                0  ...   \n",
      "128                  0               0              0                0  ...   \n",
      "..                 ...             ...            ...              ...  ...   \n",
      "179                  1               1              0                0  ...   \n",
      "97                   1               1              0                0  ...   \n",
      "59                   1               1              0                0  ...   \n",
      "189                  3               3              0                0  ...   \n",
      "195                  3               3              0                0  ...   \n",
      "\n",
      "     CB_OID_inflows  Bank_OID_inflows  Corp_OID_inflows  Public_PD_outflows  \\\n",
      "0                 0                 0                 0                 NaN   \n",
      "125               0                 0                 0                 NaN   \n",
      "126               0                 0                -1                 NaN   \n",
      "127               0                 0                 0                 NaN   \n",
      "128               0                 0                 0                 NaN   \n",
      "..              ...               ...               ...                 ...   \n",
      "179               0                 0                -2                 0.0   \n",
      "97                0                 0                 0                 0.0   \n",
      "59                0                 0                 0                 0.0   \n",
      "189               0                 0                 0                 0.0   \n",
      "195               0                 0                 0                 0.0   \n",
      "\n",
      "     Bank_PD_outflows  Corp_PD_outflows  Public_OID_outflows  \\\n",
      "0                 NaN               NaN                  0.0   \n",
      "125               NaN               NaN                  NaN   \n",
      "126               NaN               NaN                  NaN   \n",
      "127               NaN               NaN                  NaN   \n",
      "128               NaN               NaN                  NaN   \n",
      "..                ...               ...                  ...   \n",
      "179               0.0               0.0                  0.0   \n",
      "97                0.0               0.0                  0.0   \n",
      "59                0.0               0.0                  0.0   \n",
      "189               0.0               0.0                  0.0   \n",
      "195               0.0               0.0                  0.0   \n",
      "\n",
      "     Bank_OID_outflows  Corp_OID_outflows  Reserves_outflows  \n",
      "0                  0.0                0.0                0.0  \n",
      "125                NaN                NaN                NaN  \n",
      "126                NaN                NaN                NaN  \n",
      "127                NaN                NaN                NaN  \n",
      "128                NaN                NaN                NaN  \n",
      "..                 ...                ...                ...  \n",
      "179                0.0                5.0                0.0  \n",
      "97                -1.0                0.0                1.0  \n",
      "59                 0.0                0.0                0.0  \n",
      "189                0.0                1.0                1.0  \n",
      "195                0.0                1.0                2.0  \n",
      "\n",
      "[200 rows x 23 columns]\n"
     ]
    }
   ],
   "source": [
    "# Trier les données par la colonne 'Public_PD_inflows' de manière croissante\n",
    "data_sorted_asc = data.sort_values(by='Public_PD_inflows', ascending=True)\n",
    "print(data_sorted_asc)\n"
   ]
  },
  {
   "cell_type": "markdown",
   "id": "76827792-8c04-43fd-b135-21a8d30d017d",
   "metadata": {},
   "source": [
    "- Tri des données : Le DataFrame est trié par Public_PD_inflows en ordre croissant.\n",
    "- Colonnes principales : countryname, countrycode2, countrycode_IMF, year, et les colonnes de flux de capitaux (Public_PD_inflows, Gov_PD_inflows, CB_PD_inflows).\n",
    "- Valeurs manquantes : Les NaN indiquent des données indisponibles pour certains pays ou périodes.\n",
    "- Affichage : Le DataFrame trié est affiché avec print(data_sorted_asc).\n",
    "Ce code facilite l’analyse des flux de capitaux en organisant les données"
   ]
  },
  {
   "cell_type": "code",
   "execution_count": 10,
   "id": "c262ff88-c5d1-4da6-b686-a77405772ca0",
   "metadata": {},
   "outputs": [
    {
     "name": "stdout",
     "output_type": "stream",
     "text": [
      "Moyenne : 0.045\n"
     ]
    }
   ],
   "source": [
    "mean_value = np.mean(data['Public_PD_inflows'])\n",
    "print(f\"Moyenne : {mean_value}\")\n"
   ]
  },
  {
   "cell_type": "code",
   "execution_count": 11,
   "id": "3780fe7d-4167-4732-9645-16e376c28d0b",
   "metadata": {},
   "outputs": [
    {
     "name": "stdout",
     "output_type": "stream",
     "text": [
      "Médiane : 0.0\n"
     ]
    }
   ],
   "source": [
    "median_value = np.median(data['Public_PD_inflows'])\n",
    "print(f\"Médiane : {median_value}\")\n"
   ]
  },
  {
   "cell_type": "code",
   "execution_count": 12,
   "id": "6eec559a-8fdc-4326-8c83-f90ab287828b",
   "metadata": {},
   "outputs": [
    {
     "name": "stdout",
     "output_type": "stream",
     "text": [
      "Écart-type : 0.3208971797944009\n"
     ]
    }
   ],
   "source": [
    "std_dev = np.std(data['Public_PD_inflows'])\n",
    "print(f\"Écart-type : {std_dev}\")\n"
   ]
  },
  {
   "cell_type": "code",
   "execution_count": 13,
   "id": "630e58b6-519a-4893-881c-93c900ee35d9",
   "metadata": {},
   "outputs": [
    {
     "name": "stdout",
     "output_type": "stream",
     "text": [
      "Variance : 0.10297500000000005\n"
     ]
    }
   ],
   "source": [
    "variance = np.var(data['Public_PD_inflows'])\n",
    "print(f\"Variance : {variance}\")\n"
   ]
  },
  {
   "cell_type": "code",
   "execution_count": 14,
   "id": "39c55a39-a87d-4525-9f3d-c0adbb2c05b8",
   "metadata": {},
   "outputs": [
    {
     "name": "stdout",
     "output_type": "stream",
     "text": [
      "Min : 0, Max : 3\n"
     ]
    }
   ],
   "source": [
    "min_value = np.min(data['Public_PD_inflows'])\n",
    "max_value = np.max(data['Public_PD_inflows'])\n",
    "print(f\"Min : {min_value}, Max : {max_value}\")\n"
   ]
  },
  {
   "cell_type": "code",
   "execution_count": 15,
   "id": "19aabb30-dfe3-4b4e-b91a-dc2b3d23941e",
   "metadata": {},
   "outputs": [
    {
     "name": "stdout",
     "output_type": "stream",
     "text": [
      "Somme : 9\n"
     ]
    }
   ],
   "source": [
    "sum_value = np.sum(data['Public_PD_inflows'])\n",
    "print(f\"Somme : {sum_value}\")\n"
   ]
  },
  {
   "cell_type": "code",
   "execution_count": 16,
   "id": "cac43f00-1381-41b8-a948-ec42f0962740",
   "metadata": {},
   "outputs": [
    {
     "name": "stdout",
     "output_type": "stream",
     "text": [
      "Quantiles (25%, 50%, 75%) : 0.0, 0.0, 0.0\n"
     ]
    }
   ],
   "source": [
    "q25 = np.percentile(data['Public_PD_inflows'], 25)\n",
    "q50 = np.percentile(data['Public_PD_inflows'], 50)  # Médiane\n",
    "q75 = np.percentile(data['Public_PD_inflows'], 75)\n",
    "print(f\"Quantiles (25%, 50%, 75%) : {q25}, {q50}, {q75}\")\n"
   ]
  },
  {
   "cell_type": "code",
   "execution_count": 17,
   "id": "3f572551-e5ba-4c73-bfeb-1cc4dfe12bff",
   "metadata": {},
   "outputs": [
    {
     "name": "stdout",
     "output_type": "stream",
     "text": [
      "count    200.000000\n",
      "mean       0.045000\n",
      "std        0.321702\n",
      "min        0.000000\n",
      "25%        0.000000\n",
      "50%        0.000000\n",
      "75%        0.000000\n",
      "max        3.000000\n",
      "Name: Public_PD_inflows, dtype: float64\n"
     ]
    }
   ],
   "source": [
    "# Calculer des statistiques descriptives avec pandas\n",
    "desc_stats = data['Public_PD_inflows'].describe()\n",
    "print(desc_stats)\n"
   ]
  },
  {
   "cell_type": "markdown",
   "id": "917c561d-47aa-4442-940f-e7cbc0560d2f",
   "metadata": {},
   "source": [
    "- Moyenne (0.045) : Les flux publics de capitaux sont globalement faibles.\n",
    "- Médiane (0.0) : La moitié des pays ont des flux nuls ou inexistants.\n",
    "- Écart-type (0.32) & Variance (0.10) : Indiquent une variabilité significative autour de la moyenne.\n",
    "- Min (0) & Max (3) : Variations entre absence totale de flux et pics modérés.\n",
    "L’analyse montre une distribution asymétrique, avec une majorité de pays ayant peu ou pas de flux publics de capitaux."
   ]
  },
  {
   "cell_type": "code",
   "execution_count": 18,
   "id": "b36f3f9d-660b-4d79-9032-b71dac280912",
   "metadata": {},
   "outputs": [],
   "source": [
    "# Sélectionner les colonnes des flux de capitaux par secteur\n",
    "columns_of_interest = [\n",
    "    'Public_PD_inflows', 'Gov_PD_inflows', 'CB_PD_inflows', \n",
    "    'Bank_PD_inflows', 'Corp_PD_inflows', \n",
    "    'Public_OID_inflows', 'Gov_OID_inflows', 'CB_OID_inflows',\n",
    "    'Bank_OID_inflows', 'Corp_OID_inflows'\n",
    "]\n"
   ]
  },
  {
   "cell_type": "code",
   "execution_count": 19,
   "id": "1b86e5d7-ee5f-4ecf-8045-bdf4828758cf",
   "metadata": {},
   "outputs": [
    {
     "name": "stdout",
     "output_type": "stream",
     "text": [
      "Volumes de flux entrants par secteur :\n",
      " Public_PD_inflows    9.0\n",
      "Gov_PD_inflows       9.0\n",
      "CB_PD_inflows        0.0\n",
      "Bank_PD_inflows      0.0\n",
      "Corp_PD_inflows      0.0\n",
      "dtype: float64\n"
     ]
    }
   ],
   "source": [
    "# Créer un DataFrame qui regroupe les flux entrants par secteur\n",
    "sector_inflows = data[['countryname', 'Public_PD_inflows', 'Gov_PD_inflows', 'CB_PD_inflows', 'Bank_PD_inflows', 'Corp_PD_inflows']]\n",
    "\n",
    "# Calculer la somme des flux entrants par secteur\n",
    "sector_inflows_sum = sector_inflows.sum(axis=0).drop('countryname')\n",
    "print(\"Volumes de flux entrants par secteur :\\n\", sector_inflows_sum)\n"
   ]
  },
  {
   "cell_type": "markdown",
   "id": "fb3f4a08-e26d-4332-8c46-3e14153c22a1",
   "metadata": {},
   "source": [
    "*** Gestion de flux entrants : \n",
    "* Sélection des Colonnes : Trois colonnes spécifiques du DataFrame sont choisies pour représenter les flux de capitaux :\n",
    "- Public_PD_inflows : Flux publics\n",
    "- Gov_PD_inflows : Flux gouvernementaux\n",
    "- CB_PD_inflows : Flux de la banque centrale\n",
    "Ces colonnes sont rassemblées dans une liste columns_of_interest.\n",
    "* Création d'un Nouveau DataFrame : Un nouveau DataFrame, sector_inflows, est créé pour concentrer l'analyse sur les flux entrants par pays.\n",
    "* Calcul de la Somme des Flux Entrants : La somme des flux entrants est calculée par pays avec sector_inflows_sum =   sector_inflows.sum(axis=1), permettant d'évaluer l'importance relative des secteurs de flux de capitaux.\n",
    "Cette approche permet d'analyser les flux de capitaux entrants par secteur pour chaque pays, facilitant l'identification des pays recevant le plus de capitaux et aidant à comprendre les dynamiques économiques."
   ]
  },
  {
   "cell_type": "code",
   "execution_count": 20,
   "id": "758b6307-4023-4841-b42f-faaac1c641df",
   "metadata": {
    "scrolled": true
   },
   "outputs": [
    {
     "name": "stdout",
     "output_type": "stream",
     "text": [
      "Volumes de flux sortants par secteur :\n",
      " Public_OID_inflows    21.0\n",
      "Gov_OID_inflows       19.0\n",
      "CB_OID_inflows         3.0\n",
      "Bank_OID_inflows       0.0\n",
      "Corp_OID_inflows      -6.0\n",
      "dtype: float64\n",
      "\n",
      "Différence entre les flux entrants et sortants par secteur :\n",
      " Bank_OID_inflows     NaN\n",
      "Bank_PD_inflows      NaN\n",
      "CB_OID_inflows       NaN\n",
      "CB_PD_inflows        NaN\n",
      "Corp_OID_inflows     NaN\n",
      "Corp_PD_inflows      NaN\n",
      "Gov_OID_inflows      NaN\n",
      "Gov_PD_inflows       NaN\n",
      "Public_OID_inflows   NaN\n",
      "Public_PD_inflows    NaN\n",
      "dtype: float64\n"
     ]
    }
   ],
   "source": [
    "# Créer un DataFrame pour les flux sortants\n",
    "sector_outflows = data[['countryname', 'Public_OID_inflows', 'Gov_OID_inflows', 'CB_OID_inflows', 'Bank_OID_inflows', 'Corp_OID_inflows']]\n",
    "\n",
    "# Calculer la somme des flux sortants par secteur\n",
    "sector_outflows_sum = sector_outflows.sum(axis=0).drop('countryname')\n",
    "print(\"Volumes de flux sortants par secteur :\\n\", sector_outflows_sum)\n",
    "\n",
    "# Comparer les flux entrants et sortants pour chaque secteur\n",
    "comparison = sector_inflows_sum - sector_outflows_sum\n",
    "print(\"\\nDifférence entre les flux entrants et sortants par secteur :\\n\", comparison)\n"
   ]
  },
  {
   "cell_type": "markdown",
   "id": "a441f0c8-eb6f-45b9-9b9d-d60130915eeb",
   "metadata": {},
   "source": [
    "*** Gestion des flux sortant :\n",
    "- Création d'un DataFrame pour les Flux Sortants : Sélection des colonnes countryname, Gov_CID_inflows, CB_CID_inflows, et Bank_CID_inflows pour créer un DataFrame représentant les flux de capitaux sortants.\n",
    "- Calcul de la Somme des Flux Sortants : La somme des flux sortants est calculée par pays avec sector_outflows_sum = sector_outflows.sum(axis=1), permettant une évaluation horizontale des données.\n",
    "- Comparaison des Flux Entrants et Sortants : La différence entre les flux entrants et sortants est calculée avec comparison = sector_inflows_sum - sector_outflows_sum, permettant de déterminer si un pays est importateur ou exportateur net de capitaux.\n",
    "Les résultats montrent des valeurs NaN, indiquant des pays sans données pour certains flux, ce qui complique l'analyse et la comparaison des flux entrants et sortants"
   ]
  },
  {
   "cell_type": "code",
   "execution_count": 21,
   "id": "31c2c6fb-627f-4d38-9152-2014e539ad97",
   "metadata": {},
   "outputs": [
    {
     "data": {
      "image/png": "[encoded data removed]",
      "text/plain": [
       "<Figure size 1000x600 with 1 Axes>"
      ]
     },
     "metadata": {},
     "output_type": "display_data"
    }
   ],
   "source": [
    "import matplotlib.pyplot as plt\n",
    "\n",
    "# Préparer les données pour le graphique\n",
    "sector_names = sector_inflows_sum.index\n",
    "inflows_values = sector_inflows_sum.values\n",
    "outflows_values = sector_outflows_sum.values\n",
    "\n",
    "# Créer le graphique\n",
    "x = np.arange(len(sector_names))  # positions des secteurs\n",
    "width = 0.35  # largeur des barres\n",
    "\n",
    "fig, ax = plt.subplots(figsize=(10, 6))\n",
    "\n",
    "# Barres pour les flux entrants et sortants\n",
    "rects1 = ax.bar(x - width/2, inflows_values, width, label='Flux entrants')\n",
    "rects2 = ax.bar(x + width/2, outflows_values, width, label='Flux sortants')\n",
    "\n",
    "# Ajouter des labels, titres et personnaliser l'affichage\n",
    "ax.set_ylabel('Volumes de transactions')\n",
    "ax.set_title('Comparaison des volumes de flux entrants et sortants par secteur')\n",
    "ax.set_xticks(x)\n",
    "ax.set_xticklabels(sector_names, rotation=45)\n",
    "ax.legend()\n",
    "\n",
    "# Afficher les valeurs sur les barres\n",
    "def autolabel(rects):\n",
    "    for rect in rects:\n",
    "        height = rect.get_height()\n",
    "        ax.annotate('{}'.format(height),\n",
    "                    xy=(rect.get_x() + rect.get_width() / 2, height),\n",
    "                    xytext=(0, 3),  # décalage vertical\n",
    "                    textcoords=\"offset points\",\n",
    "                    ha='center', va='bottom')\n",
    "\n",
    "autolabel(rects1)\n",
    "autolabel(rects2)\n",
    "\n",
    "# Afficher le graphique\n",
    "plt.show()\n"
   ]
  },
  {
   "cell_type": "markdown",
   "id": "2e4b58b5-71d0-4df4-9141-3ec785509f30",
   "metadata": {},
   "source": [
    "- Importation : La bibliothèque matplotlib.pyplot est importée sous le nom plt.\n",
    "* Préparation des Données :\n",
    "- Les noms des secteurs sont extraits.\n",
    "- La largeur des barres est fixée à 0,35.\n",
    "* Création du Graphique :\n",
    "- Les barres pour les flux entrants et sortants sont créées côte à côte pour faciliter la comparaison.\n",
    "* Personnalisation :\n",
    "- Les étiquettes de l'axe x sont définies avec une rotation de 45 degrés.\n",
    "- Une légende identifie les flux entrants et sortants.\n",
    "Ce code génère un graphique à barres comparatif des flux de capitaux"
   ]
  },
  {
   "cell_type": "markdown",
   "id": "4e6ff8da-0744-4439-a29e-0e0d1a34f7e0",
   "metadata": {},
   "source": [
    "Le graphique Compare les volumes de flux entrants et sortants par secteur, avec les secteurs sur l'axe x et les volumes sur l'axe y.\n",
    "- Flux Entrants : Les flux entrants sont généralement plus élevés. Par exemple, le secteur \"A\" a 21,0 pour les entrants versus 3,0 pour les sortants, indiquant une forte attractivité.\n",
    "- Flux Sortants : Les flux sortants sont faibles, avec des valeurs de 0,0 pour le secteur \"C\" et -6,0 pour un autre secteur, suggérant un solde négatif et une dépendance économique.\n",
    "- Comparaison Globale : La majorité des secteurs sont des importateurs nets de capitaux, signalant confiance des investisseurs et opportunités d'expansion.\n",
    "- Implications Économiques : Les secteurs avec des flux entrants élevés sont des zones de croissance potentielle, tandis que ceux avec des flux sortants négatifs nécessitent une attention pour stimuler l'investissement."
   ]
  },
  {
   "cell_type": "code",
   "execution_count": 22,
   "id": "450d1d40-2e86-47e1-9224-31ec4592bbdc",
   "metadata": {},
   "outputs": [
    {
     "data": {
      "image/png": "[encoded data removed]",
      "text/plain": [
       "<Figure size 1000x600 with 1 Axes>"
      ]
     },
     "metadata": {},
     "output_type": "display_data"
    }
   ],
   "source": [
    "# Sélectionner les données pertinentes (par exemple, les flux entrants du secteur Public au fil des années)\n",
    "asset_data = data[['year', 'Public_PD_inflows']]\n",
    " \n",
    "# Tracer la performance de l'actif au fil des années\n",
    "plt.figure(figsize=(10, 6))\n",
    "plt.plot(asset_data['year'], asset_data['Public_PD_inflows'], label='Flux entrants Public', marker='o', color='green')\n",
    "plt.title(\"Performance de l'actif (flux entrants - Secteur Public) au fil du temps\")\n",
    "plt.xlabel('Année')\n",
    "plt.ylabel('Volume des flux entrants')\n",
    "plt.legend()\n",
    "plt.grid(True)\n",
    "plt.show()\n"
   ]
  },
  {
   "cell_type": "markdown",
   "id": "d0458d34-1b34-4082-b403-c69eaa8c052f",
   "metadata": {},
   "source": [
    "* Traitement des données pertinentes :\n",
    "- Sélection des Données : Choix des colonnes pertinentes, notamment year et Public_PD_inflows, représentant respectivement les années et les flux entrants du secteur public.\n",
    "- Création du Graphique :\n",
    "plt.figure(figsize=(10, 6)) : Définit une taille de graphique de 10 par 6 pouces pour une meilleure lisibilité.\n",
    "plt.plot(...) : Trace un graphique linéaire des flux entrants publics, avec des cercles comme marqueurs et une ligne verte.\n",
    "- Titre et Étiquettes :\n",
    "plt.title(...) : Ajoute un titre pour contextualiser l'information.\n",
    "Étiquettes des axes : \"Année\" pour l'axe X et \"Niveau des flux entrants\" pour l'axe Y.\n",
    "- Légende et Grille :\n",
    "plt.legend() : Affiche la légende pour identifier la courbe.\n",
    "plt.grid(True) : Ajoute une grille pour faciliter la lecture des valeurs."
   ]
  },
  {
   "cell_type": "markdown",
   "id": "54fdaf92-f9f6-4361-be52-6aee21b44ba2",
   "metadata": {},
   "source": [
    "Le graphique illustre l'évolution des flux entrants dans le secteur public de 1995 à 2020, avec les flux sur l'axe Y et les années sur l'axe X.\n",
    "* Observations :\n",
    "- Tendances Générales : La plupart des années affichent des volumes de flux entrants très faibles, indiquant une stagnation dans l'attractivité des investissements.\n",
    "- Pic Notable : Un pic significatif autour de 2010 atteint presque 3,0, possiblement lié à des initiatives ou réformes favorisant les investissements.\n",
    "- Retour à la Normale : Après 2010, les flux entrants chutent à des niveaux faibles, suggérant un retour à une dynamique moins active.\n",
    "- Stagnation Générale : La faible variation des flux sur la période indique un manque d'intérêt pour le secteur public, influencé par des facteurs économiques ou politiques.\n",
    "* Opportunité d'Analyse : Le pic de 2010 nécessite une analyse pour comprendre les facteurs de cet afflux et explorer comment les reproduire pour stimuler de futurs investissements"
   ]
  },
  {
   "cell_type": "code",
   "execution_count": 23,
   "id": "c601883a-e4b8-49f8-9d37-ef07ab5803ea",
   "metadata": {},
   "outputs": [],
   "source": [
    "import matplotlib.pyplot as plt\n",
    "from sklearn.model_selection import train_test_split\n",
    "from sklearn.linear_model import LinearRegression\n",
    "from sklearn.metrics import mean_squared_error, r2_score"
   ]
  },
  {
   "cell_type": "markdown",
   "id": "df982c72-b280-4b97-881b-5b46b15bf3ef",
   "metadata": {},
   "source": [
    "* Importation de matplotlib.pyplot : Permet de créer des visualisations graphiques, souvent utilisées pour tracer des graphiques et diagrammes.\n",
    "* Division des Données : Essentielle pour évaluer la performance d'un modèle en séparant les ensembles d'entraînement et de test.\n",
    "* Importation de la Régression Linéaire : Utilisée pour créer un modèle de régression linéaire, permettant de prédire une variable continue à partir de variables indépendantes.\n",
    "* Évaluation du Modèle :\n",
    "- mean_squared_error : Calcule l'erreur quadratique moyenne, mesurant la différence entre les valeurs prédites et réelles.\n",
    "- r2_score : Mesure la proportion de variance des résultats prévisible à partir des variables indépendantes."
   ]
  },
  {
   "cell_type": "code",
   "execution_count": 24,
   "id": "e98a4456-2c98-42f7-9a92-01d14fceec7d",
   "metadata": {},
   "outputs": [],
   "source": [
    "# Sélectionner les colonnes pertinentes\n",
    "data_model = data[['year', 'quarter', 'Public_PD_inflows']]\n",
    "\n",
    "# Supprimer les lignes avec des valeurs manquantes\n",
    "data_model = data_model.dropna()\n",
    "\n",
    "# Définir les variables indépendantes (features) et dépendantes (target)\n",
    "X = data_model[['year', 'quarter']]  # Features : année et trimestre\n",
    "y = data_model['Public_PD_inflows']  # Target : flux entrants publics"
   ]
  },
  {
   "cell_type": "code",
   "execution_count": 25,
   "id": "226bb114-d917-4e56-ba56-486bbc6f7748",
   "metadata": {},
   "outputs": [],
   "source": [
    "# Diviser les données en train (80%) et test (20%)\n",
    "X_train, X_test, y_train, y_test = train_test_split(X, y, test_size=0.2, random_state=42)"
   ]
  },
  {
   "cell_type": "code",
   "execution_count": 27,
   "id": "f296aa64-43e8-43cc-a749-ee86cfaf2679",
   "metadata": {},
   "outputs": [
    {
     "data": {
      "text/html": [
       "<style>#sk-container-id-2 {\n",
       "  /* Definition of color scheme common for light and dark mode */\n",
       "  --sklearn-color-text: #000;\n",
       "  --sklearn-color-text-muted: #666;\n",
       "  --sklearn-color-line: gray;\n",
       "  /* Definition of color scheme for unfitted estimators */\n",
       "  --sklearn-color-unfitted-level-0: #fff5e6;\n",
       "  --sklearn-color-unfitted-level-1: #f6e4d2;\n",
       "  --sklearn-color-unfitted-level-2: #ffe0b3;\n",
       "  --sklearn-color-unfitted-level-3: chocolate;\n",
       "  /* Definition of color scheme for fitted estimators */\n",
       "  --sklearn-color-fitted-level-0: #f0f8ff;\n",
       "  --sklearn-color-fitted-level-1: #d4ebff;\n",
       "  --sklearn-color-fitted-level-2: #b3dbfd;\n",
       "  --sklearn-color-fitted-level-3: cornflowerblue;\n",
       "\n",
       "  /* Specific color for light theme */\n",
       "  --sklearn-color-text-on-default-background: var(--sg-text-color, var(--theme-code-foreground, var(--jp-content-font-color1, black)));\n",
       "  --sklearn-color-background: var(--sg-background-color, var(--theme-background, var(--jp-layout-color0, white)));\n",
       "  --sklearn-color-border-box: var(--sg-text-color, var(--theme-code-foreground, var(--jp-content-font-color1, black)));\n",
       "  --sklearn-color-icon: #696969;\n",
       "\n",
       "  @media (prefers-color-scheme: dark) {\n",
       "    /* Redefinition of color scheme for dark theme */\n",
       "    --sklearn-color-text-on-default-background: var(--sg-text-color, var(--theme-code-foreground, var(--jp-content-font-color1, white)));\n",
       "    --sklearn-color-background: var(--sg-background-color, var(--theme-background, var(--jp-layout-color0, #111)));\n",
       "    --sklearn-color-border-box: var(--sg-text-color, var(--theme-code-foreground, var(--jp-content-font-color1, white)));\n",
       "    --sklearn-color-icon: #878787;\n",
       "  }\n",
       "}\n",
       "\n",
       "#sk-container-id-2 {\n",
       "  color: var(--sklearn-color-text);\n",
       "}\n",
       "\n",
       "#sk-container-id-2 pre {\n",
       "  padding: 0;\n",
       "}\n",
       "\n",
       "#sk-container-id-2 input.sk-hidden--visually {\n",
       "  border: 0;\n",
       "  clip: rect(1px 1px 1px 1px);\n",
       "  clip: rect(1px, 1px, 1px, 1px);\n",
       "  height: 1px;\n",
       "  margin: -1px;\n",
       "  overflow: hidden;\n",
       "  padding: 0;\n",
       "  position: absolute;\n",
       "  width: 1px;\n",
       "}\n",
       "\n",
       "#sk-container-id-2 div.sk-dashed-wrapped {\n",
       "  border: 1px dashed var(--sklearn-color-line);\n",
       "  margin: 0 0.4em 0.5em 0.4em;\n",
       "  box-sizing: border-box;\n",
       "  padding-bottom: 0.4em;\n",
       "  background-color: var(--sklearn-color-background);\n",
       "}\n",
       "\n",
       "#sk-container-id-2 div.sk-container {\n",
       "  /* jupyter's `normalize.less` sets `[hidden] { display: none; }`\n",
       "     but bootstrap.min.css set `[hidden] { display: none !important; }`\n",
       "     so we also need the `!important` here to be able to override the\n",
       "     default hidden behavior on the sphinx rendered scikit-learn.org.\n",
       "     See: https://github.com/scikit-learn/scikit-learn/issues/21755 */\n",
       "  display: inline-block !important;\n",
       "  position: relative;\n",
       "}\n",
       "\n",
       "#sk-container-id-2 div.sk-text-repr-fallback {\n",
       "  display: none;\n",
       "}\n",
       "\n",
       "div.sk-parallel-item,\n",
       "div.sk-serial,\n",
       "div.sk-item {\n",
       "  /* draw centered vertical line to link estimators */\n",
       "  background-image: linear-gradient(var(--sklearn-color-text-on-default-background), var(--sklearn-color-text-on-default-background));\n",
       "  background-size: 2px 100%;\n",
       "  background-repeat: no-repeat;\n",
       "  background-position: center center;\n",
       "}\n",
       "\n",
       "/* Parallel-specific style estimator block */\n",
       "\n",
       "#sk-container-id-2 div.sk-parallel-item::after {\n",
       "  content: \"\";\n",
       "  width: 100%;\n",
       "  border-bottom: 2px solid var(--sklearn-color-text-on-default-background);\n",
       "  flex-grow: 1;\n",
       "}\n",
       "\n",
       "#sk-container-id-2 div.sk-parallel {\n",
       "  display: flex;\n",
       "  align-items: stretch;\n",
       "  justify-content: center;\n",
       "  background-color: var(--sklearn-color-background);\n",
       "  position: relative;\n",
       "}\n",
       "\n",
       "#sk-container-id-2 div.sk-parallel-item {\n",
       "  display: flex;\n",
       "  flex-direction: column;\n",
       "}\n",
       "\n",
       "#sk-container-id-2 div.sk-parallel-item:first-child::after {\n",
       "  align-self: flex-end;\n",
       "  width: 50%;\n",
       "}\n",
       "\n",
       "#sk-container-id-2 div.sk-parallel-item:last-child::after {\n",
       "  align-self: flex-start;\n",
       "  width: 50%;\n",
       "}\n",
       "\n",
       "#sk-container-id-2 div.sk-parallel-item:only-child::after {\n",
       "  width: 0;\n",
       "}\n",
       "\n",
       "/* Serial-specific style estimator block */\n",
       "\n",
       "#sk-container-id-2 div.sk-serial {\n",
       "  display: flex;\n",
       "  flex-direction: column;\n",
       "  align-items: center;\n",
       "  background-color: var(--sklearn-color-background);\n",
       "  padding-right: 1em;\n",
       "  padding-left: 1em;\n",
       "}\n",
       "\n",
       "\n",
       "/* Toggleable style: style used for estimator/Pipeline/ColumnTransformer box that is\n",
       "clickable and can be expanded/collapsed.\n",
       "- Pipeline and ColumnTransformer use this feature and define the default style\n",
       "- Estimators will overwrite some part of the style using the `sk-estimator` class\n",
       "*/\n",
       "\n",
       "/* Pipeline and ColumnTransformer style (default) */\n",
       "\n",
       "#sk-container-id-2 div.sk-toggleable {\n",
       "  /* Default theme specific background. It is overwritten whether we have a\n",
       "  specific estimator or a Pipeline/ColumnTransformer */\n",
       "  background-color: var(--sklearn-color-background);\n",
       "}\n",
       "\n",
       "/* Toggleable label */\n",
       "#sk-container-id-2 label.sk-toggleable__label {\n",
       "  cursor: pointer;\n",
       "  display: flex;\n",
       "  width: 100%;\n",
       "  margin-bottom: 0;\n",
       "  padding: 0.5em;\n",
       "  box-sizing: border-box;\n",
       "  text-align: center;\n",
       "  align-items: start;\n",
       "  justify-content: space-between;\n",
       "  gap: 0.5em;\n",
       "}\n",
       "\n",
       "#sk-container-id-2 label.sk-toggleable__label .caption {\n",
       "  font-size: 0.6rem;\n",
       "  font-weight: lighter;\n",
       "  color: var(--sklearn-color-text-muted);\n",
       "}\n",
       "\n",
       "#sk-container-id-2 label.sk-toggleable__label-arrow:before {\n",
       "  /* Arrow on the left of the label */\n",
       "  content: \"▸\";\n",
       "  float: left;\n",
       "  margin-right: 0.25em;\n",
       "  color: var(--sklearn-color-icon);\n",
       "}\n",
       "\n",
       "#sk-container-id-2 label.sk-toggleable__label-arrow:hover:before {\n",
       "  color: var(--sklearn-color-text);\n",
       "}\n",
       "\n",
       "/* Toggleable content - dropdown */\n",
       "\n",
       "#sk-container-id-2 div.sk-toggleable__content {\n",
       "  max-height: 0;\n",
       "  max-width: 0;\n",
       "  overflow: hidden;\n",
       "  text-align: left;\n",
       "  /* unfitted */\n",
       "  background-color: var(--sklearn-color-unfitted-level-0);\n",
       "}\n",
       "\n",
       "#sk-container-id-2 div.sk-toggleable__content.fitted {\n",
       "  /* fitted */\n",
       "  background-color: var(--sklearn-color-fitted-level-0);\n",
       "}\n",
       "\n",
       "#sk-container-id-2 div.sk-toggleable__content pre {\n",
       "  margin: 0.2em;\n",
       "  border-radius: 0.25em;\n",
       "  color: var(--sklearn-color-text);\n",
       "  /* unfitted */\n",
       "  background-color: var(--sklearn-color-unfitted-level-0);\n",
       "}\n",
       "\n",
       "#sk-container-id-2 div.sk-toggleable__content.fitted pre {\n",
       "  /* unfitted */\n",
       "  background-color: var(--sklearn-color-fitted-level-0);\n",
       "}\n",
       "\n",
       "#sk-container-id-2 input.sk-toggleable__control:checked~div.sk-toggleable__content {\n",
       "  /* Expand drop-down */\n",
       "  max-height: 200px;\n",
       "  max-width: 100%;\n",
       "  overflow: auto;\n",
       "}\n",
       "\n",
       "#sk-container-id-2 input.sk-toggleable__control:checked~label.sk-toggleable__label-arrow:before {\n",
       "  content: \"▾\";\n",
       "}\n",
       "\n",
       "/* Pipeline/ColumnTransformer-specific style */\n",
       "\n",
       "#sk-container-id-2 div.sk-label input.sk-toggleable__control:checked~label.sk-toggleable__label {\n",
       "  color: var(--sklearn-color-text);\n",
       "  background-color: var(--sklearn-color-unfitted-level-2);\n",
       "}\n",
       "\n",
       "#sk-container-id-2 div.sk-label.fitted input.sk-toggleable__control:checked~label.sk-toggleable__label {\n",
       "  background-color: var(--sklearn-color-fitted-level-2);\n",
       "}\n",
       "\n",
       "/* Estimator-specific style */\n",
       "\n",
       "/* Colorize estimator box */\n",
       "#sk-container-id-2 div.sk-estimator input.sk-toggleable__control:checked~label.sk-toggleable__label {\n",
       "  /* unfitted */\n",
       "  background-color: var(--sklearn-color-unfitted-level-2);\n",
       "}\n",
       "\n",
       "#sk-container-id-2 div.sk-estimator.fitted input.sk-toggleable__control:checked~label.sk-toggleable__label {\n",
       "  /* fitted */\n",
       "  background-color: var(--sklearn-color-fitted-level-2);\n",
       "}\n",
       "\n",
       "#sk-container-id-2 div.sk-label label.sk-toggleable__label,\n",
       "#sk-container-id-2 div.sk-label label {\n",
       "  /* The background is the default theme color */\n",
       "  color: var(--sklearn-color-text-on-default-background);\n",
       "}\n",
       "\n",
       "/* On hover, darken the color of the background */\n",
       "#sk-container-id-2 div.sk-label:hover label.sk-toggleable__label {\n",
       "  color: var(--sklearn-color-text);\n",
       "  background-color: var(--sklearn-color-unfitted-level-2);\n",
       "}\n",
       "\n",
       "/* Label box, darken color on hover, fitted */\n",
       "#sk-container-id-2 div.sk-label.fitted:hover label.sk-toggleable__label.fitted {\n",
       "  color: var(--sklearn-color-text);\n",
       "  background-color: var(--sklearn-color-fitted-level-2);\n",
       "}\n",
       "\n",
       "/* Estimator label */\n",
       "\n",
       "#sk-container-id-2 div.sk-label label {\n",
       "  font-family: monospace;\n",
       "  font-weight: bold;\n",
       "  display: inline-block;\n",
       "  line-height: 1.2em;\n",
       "}\n",
       "\n",
       "#sk-container-id-2 div.sk-label-container {\n",
       "  text-align: center;\n",
       "}\n",
       "\n",
       "/* Estimator-specific */\n",
       "#sk-container-id-2 div.sk-estimator {\n",
       "  font-family: monospace;\n",
       "  border: 1px dotted var(--sklearn-color-border-box);\n",
       "  border-radius: 0.25em;\n",
       "  box-sizing: border-box;\n",
       "  margin-bottom: 0.5em;\n",
       "  /* unfitted */\n",
       "  background-color: var(--sklearn-color-unfitted-level-0);\n",
       "}\n",
       "\n",
       "#sk-container-id-2 div.sk-estimator.fitted {\n",
       "  /* fitted */\n",
       "  background-color: var(--sklearn-color-fitted-level-0);\n",
       "}\n",
       "\n",
       "/* on hover */\n",
       "#sk-container-id-2 div.sk-estimator:hover {\n",
       "  /* unfitted */\n",
       "  background-color: var(--sklearn-color-unfitted-level-2);\n",
       "}\n",
       "\n",
       "#sk-container-id-2 div.sk-estimator.fitted:hover {\n",
       "  /* fitted */\n",
       "  background-color: var(--sklearn-color-fitted-level-2);\n",
       "}\n",
       "\n",
       "/* Specification for estimator info (e.g. \"i\" and \"?\") */\n",
       "\n",
       "/* Common style for \"i\" and \"?\" */\n",
       "\n",
       ".sk-estimator-doc-link,\n",
       "a:link.sk-estimator-doc-link,\n",
       "a:visited.sk-estimator-doc-link {\n",
       "  float: right;\n",
       "  font-size: smaller;\n",
       "  line-height: 1em;\n",
       "  font-family: monospace;\n",
       "  background-color: var(--sklearn-color-background);\n",
       "  border-radius: 1em;\n",
       "  height: 1em;\n",
       "  width: 1em;\n",
       "  text-decoration: none !important;\n",
       "  margin-left: 0.5em;\n",
       "  text-align: center;\n",
       "  /* unfitted */\n",
       "  border: var(--sklearn-color-unfitted-level-1) 1pt solid;\n",
       "  color: var(--sklearn-color-unfitted-level-1);\n",
       "}\n",
       "\n",
       ".sk-estimator-doc-link.fitted,\n",
       "a:link.sk-estimator-doc-link.fitted,\n",
       "a:visited.sk-estimator-doc-link.fitted {\n",
       "  /* fitted */\n",
       "  border: var(--sklearn-color-fitted-level-1) 1pt solid;\n",
       "  color: var(--sklearn-color-fitted-level-1);\n",
       "}\n",
       "\n",
       "/* On hover */\n",
       "div.sk-estimator:hover .sk-estimator-doc-link:hover,\n",
       ".sk-estimator-doc-link:hover,\n",
       "div.sk-label-container:hover .sk-estimator-doc-link:hover,\n",
       ".sk-estimator-doc-link:hover {\n",
       "  /* unfitted */\n",
       "  background-color: var(--sklearn-color-unfitted-level-3);\n",
       "  color: var(--sklearn-color-background);\n",
       "  text-decoration: none;\n",
       "}\n",
       "\n",
       "div.sk-estimator.fitted:hover .sk-estimator-doc-link.fitted:hover,\n",
       ".sk-estimator-doc-link.fitted:hover,\n",
       "div.sk-label-container:hover .sk-estimator-doc-link.fitted:hover,\n",
       ".sk-estimator-doc-link.fitted:hover {\n",
       "  /* fitted */\n",
       "  background-color: var(--sklearn-color-fitted-level-3);\n",
       "  color: var(--sklearn-color-background);\n",
       "  text-decoration: none;\n",
       "}\n",
       "\n",
       "/* Span, style for the box shown on hovering the info icon */\n",
       ".sk-estimator-doc-link span {\n",
       "  display: none;\n",
       "  z-index: 9999;\n",
       "  position: relative;\n",
       "  font-weight: normal;\n",
       "  right: .2ex;\n",
       "  padding: .5ex;\n",
       "  margin: .5ex;\n",
       "  width: min-content;\n",
       "  min-width: 20ex;\n",
       "  max-width: 50ex;\n",
       "  color: var(--sklearn-color-text);\n",
       "  box-shadow: 2pt 2pt 4pt #999;\n",
       "  /* unfitted */\n",
       "  background: var(--sklearn-color-unfitted-level-0);\n",
       "  border: .5pt solid var(--sklearn-color-unfitted-level-3);\n",
       "}\n",
       "\n",
       ".sk-estimator-doc-link.fitted span {\n",
       "  /* fitted */\n",
       "  background: var(--sklearn-color-fitted-level-0);\n",
       "  border: var(--sklearn-color-fitted-level-3);\n",
       "}\n",
       "\n",
       ".sk-estimator-doc-link:hover span {\n",
       "  display: block;\n",
       "}\n",
       "\n",
       "/* \"?\"-specific style due to the `<a>` HTML tag */\n",
       "\n",
       "#sk-container-id-2 a.estimator_doc_link {\n",
       "  float: right;\n",
       "  font-size: 1rem;\n",
       "  line-height: 1em;\n",
       "  font-family: monospace;\n",
       "  background-color: var(--sklearn-color-background);\n",
       "  border-radius: 1rem;\n",
       "  height: 1rem;\n",
       "  width: 1rem;\n",
       "  text-decoration: none;\n",
       "  /* unfitted */\n",
       "  color: var(--sklearn-color-unfitted-level-1);\n",
       "  border: var(--sklearn-color-unfitted-level-1) 1pt solid;\n",
       "}\n",
       "\n",
       "#sk-container-id-2 a.estimator_doc_link.fitted {\n",
       "  /* fitted */\n",
       "  border: var(--sklearn-color-fitted-level-1) 1pt solid;\n",
       "  color: var(--sklearn-color-fitted-level-1);\n",
       "}\n",
       "\n",
       "/* On hover */\n",
       "#sk-container-id-2 a.estimator_doc_link:hover {\n",
       "  /* unfitted */\n",
       "  background-color: var(--sklearn-color-unfitted-level-3);\n",
       "  color: var(--sklearn-color-background);\n",
       "  text-decoration: none;\n",
       "}\n",
       "\n",
       "#sk-container-id-2 a.estimator_doc_link.fitted:hover {\n",
       "  /* fitted */\n",
       "  background-color: var(--sklearn-color-fitted-level-3);\n",
       "}\n",
       "</style><div id=\"sk-container-id-2\" class=\"sk-top-container\"><div class=\"sk-text-repr-fallback\"><pre>LinearRegression()</pre><b>In a Jupyter environment, please rerun this cell to show the HTML representation or trust the notebook. <br />On GitHub, the HTML representation is unable to render, please try loading this page with nbviewer.org.</b></div><div class=\"sk-container\" hidden><div class=\"sk-item\"><div class=\"sk-estimator fitted sk-toggleable\"><input class=\"sk-toggleable__control sk-hidden--visually\" id=\"sk-estimator-id-2\" type=\"checkbox\" checked><label for=\"sk-estimator-id-2\" class=\"sk-toggleable__label fitted sk-toggleable__label-arrow\"><div><div>LinearRegression</div></div><div><a class=\"sk-estimator-doc-link fitted\" rel=\"noreferrer\" target=\"_blank\" href=\"https://scikit-learn.org/1.6/modules/generated/sklearn.linear_model.LinearRegression.html\">?<span>Documentation for LinearRegression</span></a><span class=\"sk-estimator-doc-link fitted\">i<span>Fitted</span></span></div></label><div class=\"sk-toggleable__content fitted\"><pre>LinearRegression()</pre></div> </div></div></div></div>"
      ],
      "text/plain": [
       "LinearRegression()"
      ]
     },
     "execution_count": 27,
     "metadata": {},
     "output_type": "execute_result"
    }
   ],
   "source": [
    "# Créer le modèle de régression linéaire\n",
    "model = LinearRegression()\n",
    "\n",
    "# Entraîner le modèle sur les données d'entraînement\n",
    "model.fit(X_train, y_train)"
   ]
  },
  {
   "cell_type": "code",
   "execution_count": 28,
   "id": "acab794b-112d-4352-93ee-173543659c5d",
   "metadata": {},
   "outputs": [],
   "source": [
    "# Faire des prédictions sur les données de test\n",
    "y_pred = model.predict(X_test)"
   ]
  },
  {
   "cell_type": "markdown",
   "id": "d630f8ba-7088-411e-8d23-84354c34c920",
   "metadata": {},
   "source": [
    "* Sélection des Colonnes : Création d'un nouveau DataFrame data_model avec les colonnes year, quarter, et Public_PD_inflows pour se concentrer sur les données pertinentes.\n",
    "* Suppression des Valeurs Manquantes : Élimination des lignes avec des valeurs manquantes pour garantir un entraînement sur des données complètes.\n",
    "* Définition des Variables :\n",
    "- X : Variables indépendantes (prédicteurs) — year et quarter.\n",
    "- Y : Variable dépendante (cible) — Public_PD_inflows.\n",
    "* Division des Données :\n",
    "- 80% des données pour l'entraînement (X_train et y_train).\n",
    "- 20% pour le test (X_test et y_test).\n",
    "- random_state=42 assure la reproductibilité des résultats.\n",
    "* Création et Entraînement du Modèle : Création d'un objet model de type LinearRegression et entraînement sur les données d'entraînement (X_train et y_train)."
   ]
  },
  {
   "cell_type": "code",
   "execution_count": 29,
   "id": "ebf91e28-0407-464e-bdf4-a9a540218b6c",
   "metadata": {
    "scrolled": true
   },
   "outputs": [
    {
     "name": "stdout",
     "output_type": "stream",
     "text": [
      "Erreur quadratique moyenne (MSE) : 0.00895256914113154\n",
      "R^2 : 0.0\n"
     ]
    }
   ],
   "source": [
    "# Calculer l'erreur quadratique moyenne (MSE)\n",
    "mse = mean_squared_error(y_test, y_pred)\n",
    "print(f\"Erreur quadratique moyenne (MSE) : {mse}\")\n",
    "\n",
    "# Calculer le coefficient de détermination R^2\n",
    "r2 = r2_score(y_test, y_pred)\n",
    "print(f\"R^2 : {r2}\")\n"
   ]
  },
  {
   "cell_type": "markdown",
   "id": "4adef025-e69b-4e3e-9cda-e08acbf52336",
   "metadata": {},
   "source": [
    "- Prédictions : Utilisation du modèle de régression linéaire pour prédire les valeurs sur les données de test (X_test), stockées dans y_pred.\n",
    "- Erreur Quadratique Moyenne (MSE) : Calculée en comparant les valeurs réelles (y_test) aux prédites (y_pred), elle mesure la qualité des prédictions et est affichée.\n",
    "- Coefficient de Détermination R² : Évalue la proportion de variance expliquée par le modèle. Une valeur proche de 1 indique un bon - ajustement. Cette valeur est également affichée.\n",
    "- Évaluation du Modèle : MSE et R² fournissent des insights sur l'efficacité des prédictions."
   ]
  },
  {
   "cell_type": "code",
   "execution_count": 31,
   "id": "30ec7585-4fb1-4192-991e-ba7803d9fdca",
   "metadata": {},
   "outputs": [
    {
     "data": {
      "image/png": "[encoded data removed]",
      "text/plain": [
       "<Figure size 1000x600 with 1 Axes>"
      ]
     },
     "metadata": {},
     "output_type": "display_data"
    }
   ],
   "source": [
    "# Tracer les valeurs réelles vs prédites\n",
    "plt.figure(figsize=(10, 6))\n",
    "plt.scatter(y_test, y_pred, color='blue', alpha=0.6, label=\"Prédictions\")\n",
    "plt.plot([min(y_test), max(y_test)], [min(y_test), max(y_test)], color='red', label=\"Ligne de prédiction idéale\")\n",
    "plt.title('Régression Linéaire : Prédictions vs Réel')\n",
    "plt.xlabel('Valeurs réelles')\n",
    "plt.ylabel('Valeurs prédites')\n",
    "plt.legend()\n",
    "plt.show()\n"
   ]
  },
  {
   "cell_type": "markdown",
   "id": "5fc8781f-0870-4794-95c8-363ccc76d4ca",
   "metadata": {},
   "source": [
    "- Taille de la Figure : Création d'une figure de 10 unités de large et 6 unités de haut pour le graphique.\n",
    "- Tracer les Valeurs Réelles : Nuage de points représentant les valeurs réelles (y_test) par rapport aux prédites (y_pred), en bleu avec une transparence de 0.6, étiqueté \"Prédictions\".\n",
    "- Ligne de Prédiction Idéale : Une ligne rouge représente la ligne idéale où les valeurs prédites égalent les valeurs réelles, servant de référence.\n",
    "- Titre et Étiquettes : Titre défini comme \"Régression Linéaire : Prédictions vs Réel\", avec les axes étiquetés \"Valeurs réelles\" et \"Valeurs prédites\".\n",
    "- Afficher la Légende : Affichage de la légende incluant les étiquettes des points et de la ligne.\n",
    "- Afficher le Graphique : La dernière étape consiste à afficher le graphique à l'écran."
   ]
  },
  {
   "cell_type": "markdown",
   "id": "3522f170-864b-4f43-96c5-8d0f7c5e09ab",
   "metadata": {},
   "source": [
    "*** Description du Graphique\n",
    "- Titre :\n",
    "\"Régression Linéaire : Prédictions vs Réel\", indiquant une comparaison entre les valeurs prédites par le modèle et les valeurs réelles observées.\n",
    "- Axes :\n",
    "Axe des abscisses : Valeurs réelles des données de test.\n",
    "Axe des ordonnées : Valeurs prédites par le modèle.\n",
    "- Points Bleus :\n",
    "Représentent les valeurs prédites pour chaque valeur réelle. L'alignement vertical des points suggère peu de variation dans les prédictions.\n",
    "- Ligne Rouge :\n",
    "\"Ligne de prédiction idéale\", où les valeurs prédites égalent les valeurs réelles. Idéalement, tous les points devraient se situer sur cette ligne.\n",
    "- Légende :\n",
    "Indique que les points bleus correspondent aux \"Prédictions\" et que la ligne rouge est la \"Ligne de prédiction idéale\".\n",
    "*** Interprétation\n",
    "- Proximité à la Ligne Idéale :\n",
    "Les points éloignés de la ligne rouge suggèrent des prédictions insatisfaisantes, indiquant que le modèle ne capture pas bien la relation entre les variables.\n",
    "- Variabilité des Valeurs Prédites :\n",
    "L'alignement vertical sur un intervalle étroit indique une faible variabilité, pouvant signaler un surajustement du modèle.\n",
    "- Analyse des Performances :\n",
    "Le graphique met en évidence une performance médiocre du modèle. Une meilleure représentation montrerait des points dispersés autour de la ligne rouge, indiquant des prédictions plus proches des valeurs réelles"
   ]
  }
 ],
 "metadata": {
  "kernelspec": {
   "display_name": "Python 3 (ipykernel)",
   "language": "python",
   "name": "python3"
  },
  "language_info": {
   "codemirror_mode": {
    "name": "ipython",
    "version": 3
   },
   "file_extension": ".py",
   "mimetype": "text/x-python",
   "name": "python",
   "nbconvert_exporter": "python",
   "pygments_lexer": "ipython3",
   "version": "3.12.8"
  }
 },
 "nbformat": 4,
 "nbformat_minor": 5
}
